{
 "cells": [
  {
   "cell_type": "markdown",
   "id": "1314207c",
   "metadata": {},
   "source": [
    "# <p style=\"background-color:green;font-family:newtimeroman;font-size:200%;color:white;text-align:center;border-radius:20px 20px;\"><b>NumPy Assignment Solution</b></p>\n",
    "![](https://www.techproeducation.com/logo/headerlogo.svg)\n",
    "​\n",
    "<b>Yeniliklerden ilk siz haberdar olmak istiyorsanız lütfen bizi takip etmeyi unutmayın </b>[YouTube](https://www.youtube.com/c/techproeducation) | [Instagram](https://www.instagram.com/techproeducation) | [Facebook](https://www.facebook.com/techproeducation) | [Telegram](https://t.me/joinchat/HH2qRvA-ulh4OWbb) | [Whatsapp](https://api.whatsapp.com/send/?phone=%2B15853042959&text&type=phone_number&app_absent=0) | [Linkedin](https://www.linkedin.com/company/techproeducation/mycompany/) |"
   ]
  },
  {
   "cell_type": "markdown",
   "id": "0b956e8b-c012-4b7d-9fe1-be68fe668606",
   "metadata": {},
   "source": [
    "## <font color='green'> <b>Import the numpy package under the name as np & print the numpy version</b><font color='black'>"
   ]
  },
  {
   "cell_type": "code",
   "execution_count": 1,
   "id": "668e8221",
   "metadata": {
    "ExecuteTime": {
     "end_time": "2024-08-17T17:23:10.122129Z",
     "start_time": "2024-08-17T17:23:09.787800Z"
    }
   },
   "outputs": [],
   "source": [
    "import numpy as np"
   ]
  },
  {
   "cell_type": "code",
   "execution_count": 2,
   "id": "8d7c4e6f",
   "metadata": {
    "ExecuteTime": {
     "end_time": "2024-08-17T17:23:10.146104Z",
     "start_time": "2024-08-17T17:23:10.130113Z"
    }
   },
   "outputs": [
    {
     "data": {
      "text/plain": [
       "'1.26.4'"
      ]
     },
     "execution_count": 2,
     "metadata": {},
     "output_type": "execute_result"
    }
   ],
   "source": [
    "np.__version__"
   ]
  },
  {
   "cell_type": "markdown",
   "id": "8c171220-e212-4057-ad4c-e809ba8961fd",
   "metadata": {},
   "source": [
    "## <font color='green'> <b>Create a null vector of size 10</b><font color='black'>"
   ]
  },
  {
   "cell_type": "code",
   "execution_count": 3,
   "id": "107c7c3b",
   "metadata": {
    "ExecuteTime": {
     "end_time": "2024-08-17T17:23:10.174262Z",
     "start_time": "2024-08-17T17:23:10.165092Z"
    }
   },
   "outputs": [
    {
     "data": {
      "text/plain": [
       "array([0., 0., 0., 0., 0., 0., 0., 0., 0., 0.])"
      ]
     },
     "execution_count": 3,
     "metadata": {},
     "output_type": "execute_result"
    }
   ],
   "source": [
    "np.zeros(10)"
   ]
  },
  {
   "cell_type": "markdown",
   "id": "2891b252-a1db-4ab4-a164-47c9cce9a271",
   "metadata": {},
   "source": [
    "## <font color='green'> <b>Create a null vector of size 10 but the fifth value which is 1</b><font color='black'>"
   ]
  },
  {
   "cell_type": "code",
   "execution_count": 4,
   "id": "51e58682",
   "metadata": {
    "ExecuteTime": {
     "end_time": "2024-08-17T17:23:10.195247Z",
     "start_time": "2024-08-17T17:23:10.183254Z"
    }
   },
   "outputs": [],
   "source": [
    "a = np.zeros(10)"
   ]
  },
  {
   "cell_type": "code",
   "execution_count": 5,
   "id": "19694f17",
   "metadata": {
    "ExecuteTime": {
     "end_time": "2024-08-17T17:23:10.214073Z",
     "start_time": "2024-08-17T17:23:10.205241Z"
    }
   },
   "outputs": [],
   "source": [
    "a[4] = 1"
   ]
  },
  {
   "cell_type": "code",
   "execution_count": 6,
   "id": "acc66616",
   "metadata": {
    "ExecuteTime": {
     "end_time": "2024-08-17T17:23:10.233577Z",
     "start_time": "2024-08-17T17:23:10.225060Z"
    }
   },
   "outputs": [
    {
     "data": {
      "text/plain": [
       "array([0., 0., 0., 0., 1., 0., 0., 0., 0., 0.])"
      ]
     },
     "execution_count": 6,
     "metadata": {},
     "output_type": "execute_result"
    }
   ],
   "source": [
    "a"
   ]
  },
  {
   "cell_type": "markdown",
   "id": "491e5318-b216-48d8-8f35-82cd66594408",
   "metadata": {},
   "source": [
    "## <font color='green'> <b>Create a vector with values ranging from 10 to 50</b><font color='black'>"
   ]
  },
  {
   "cell_type": "code",
   "execution_count": 47,
   "id": "36253df9",
   "metadata": {
    "ExecuteTime": {
     "end_time": "2024-08-17T17:52:02.455158Z",
     "start_time": "2024-08-17T17:52:02.446048Z"
    }
   },
   "outputs": [
    {
     "data": {
      "text/plain": [
       "array([10, 11, 12, 13, 14, 15, 16, 17, 18, 19, 20, 21, 22, 23, 24, 25, 26,\n",
       "       27, 28, 29, 30, 31, 32, 33, 34, 35, 36, 37, 38, 39, 40, 41, 42, 43,\n",
       "       44, 45, 46, 47, 48, 49])"
      ]
     },
     "execution_count": 47,
     "metadata": {},
     "output_type": "execute_result"
    }
   ],
   "source": [
    "a = np.arange(10, 50)\n",
    "a"
   ]
  },
  {
   "cell_type": "markdown",
   "id": "b7818669-03a5-4f61-b08f-b85b8dd94372",
   "metadata": {},
   "source": [
    "## <font color='green'> <b>Reverse a vector (first element becomes last)</b><font color='black'>"
   ]
  },
  {
   "cell_type": "code",
   "execution_count": 8,
   "id": "027a4256",
   "metadata": {
    "ExecuteTime": {
     "end_time": "2024-08-17T17:23:11.957506Z",
     "start_time": "2024-08-17T17:23:11.949217Z"
    }
   },
   "outputs": [
    {
     "data": {
      "text/plain": [
       "array([49, 48, 47, 46, 45, 44, 43, 42, 41, 40, 39, 38, 37, 36, 35, 34, 33,\n",
       "       32, 31, 30, 29, 28, 27, 26, 25, 24, 23, 22, 21, 20, 19, 18, 17, 16,\n",
       "       15, 14, 13, 12, 11, 10])"
      ]
     },
     "execution_count": 8,
     "metadata": {},
     "output_type": "execute_result"
    }
   ],
   "source": [
    "a[::-1]"
   ]
  },
  {
   "cell_type": "markdown",
   "id": "5f4a94e4-596a-4c85-8356-7eb86d6cacbe",
   "metadata": {},
   "source": [
    "## <font color='green'> <b>Create a 3x3 matrix with values ranging from 0 to 9</b><font color='black'>"
   ]
  },
  {
   "cell_type": "code",
   "execution_count": 9,
   "id": "6bc73f48",
   "metadata": {
    "ExecuteTime": {
     "end_time": "2024-08-17T17:23:13.766643Z",
     "start_time": "2024-08-17T17:23:13.757386Z"
    }
   },
   "outputs": [
    {
     "data": {
      "text/plain": [
       "array([[0, 1, 2],\n",
       "       [3, 4, 5],\n",
       "       [6, 7, 8]])"
      ]
     },
     "execution_count": 9,
     "metadata": {},
     "output_type": "execute_result"
    }
   ],
   "source": [
    "np.arange(0,9).reshape(3,3)"
   ]
  },
  {
   "cell_type": "markdown",
   "id": "0df95fd1-f316-4976-849b-756f927f382c",
   "metadata": {},
   "source": [
    "## <font color='green'> <b>Find indices of non­zero elements from [1,2,0,0,4,0]</b><font color='black'>\n",
    "**Extra research is required**"
   ]
  },
  {
   "cell_type": "code",
   "execution_count": 10,
   "id": "95edf755",
   "metadata": {
    "ExecuteTime": {
     "end_time": "2024-08-17T17:23:13.865681Z",
     "start_time": "2024-08-17T17:23:13.856587Z"
    }
   },
   "outputs": [
    {
     "data": {
      "text/plain": [
       "array([1, 2, 0, 0, 4, 0])"
      ]
     },
     "execution_count": 10,
     "metadata": {},
     "output_type": "execute_result"
    }
   ],
   "source": [
    "a = np.array([1,2,0,0,4,0])\n",
    "a"
   ]
  },
  {
   "cell_type": "code",
   "execution_count": 11,
   "id": "34f19ea5",
   "metadata": {
    "ExecuteTime": {
     "end_time": "2024-08-17T17:23:13.915680Z",
     "start_time": "2024-08-17T17:23:13.906655Z"
    }
   },
   "outputs": [
    {
     "data": {
      "text/plain": [
       "(array([0, 1, 4], dtype=int64),)"
      ]
     },
     "execution_count": 11,
     "metadata": {},
     "output_type": "execute_result"
    }
   ],
   "source": [
    "np.nonzero([1,2,0,0,4,0])"
   ]
  },
  {
   "cell_type": "code",
   "execution_count": 12,
   "id": "b726da2c",
   "metadata": {
    "ExecuteTime": {
     "end_time": "2024-08-17T17:23:13.951656Z",
     "start_time": "2024-08-17T17:23:13.942661Z"
    }
   },
   "outputs": [
    {
     "data": {
      "text/plain": [
       "(array([0, 1, 4], dtype=int64),)"
      ]
     },
     "execution_count": 12,
     "metadata": {},
     "output_type": "execute_result"
    }
   ],
   "source": [
    "np.where(a != 0)"
   ]
  },
  {
   "cell_type": "markdown",
   "id": "efc45ac3-9297-4ea0-9fd8-8534c46935e4",
   "metadata": {},
   "source": [
    "## <font color='green'> <b>Create a 3x3 identity matrix</b><font color='black'>\n",
    "Identity matrix, kare matrisler için özel bir türdür. Diagonalindeki tüm elemanlar 1, diğer elemanlar ise 0 olan kare matrisdir."
   ]
  },
  {
   "cell_type": "code",
   "execution_count": 13,
   "id": "bb3b3ade",
   "metadata": {
    "ExecuteTime": {
     "end_time": "2024-08-17T17:23:14.023602Z",
     "start_time": "2024-08-17T17:23:14.014620Z"
    }
   },
   "outputs": [
    {
     "data": {
      "text/plain": [
       "array([[1., 0., 0.],\n",
       "       [0., 1., 0.],\n",
       "       [0., 0., 1.]])"
      ]
     },
     "execution_count": 13,
     "metadata": {},
     "output_type": "execute_result"
    }
   ],
   "source": [
    "np.eye(3,3)   # np.eye(3)"
   ]
  },
  {
   "cell_type": "markdown",
   "id": "aa19488a-0613-48f3-8604-4499afe134e8",
   "metadata": {},
   "source": [
    "## <font color='green'> <b>Create a 3x3x3 array with random values</b><font color='black'>"
   ]
  },
  {
   "cell_type": "code",
   "execution_count": 14,
   "id": "0465ead9",
   "metadata": {
    "ExecuteTime": {
     "end_time": "2024-08-17T17:23:14.407759Z",
     "start_time": "2024-08-17T17:23:14.396693Z"
    },
    "run_control": {
     "marked": true
    }
   },
   "outputs": [
    {
     "data": {
      "text/plain": [
       "array([[[94, 59, 87],\n",
       "        [50, 23, 17],\n",
       "        [43,  6, 96]],\n",
       "\n",
       "       [[ 7, 65, 84],\n",
       "        [49, 52, 10],\n",
       "        [68, 13, 75]],\n",
       "\n",
       "       [[12,  3, 45],\n",
       "        [21, 46, 14],\n",
       "        [92, 37, 88]]])"
      ]
     },
     "execution_count": 14,
     "metadata": {},
     "output_type": "execute_result"
    }
   ],
   "source": [
    "np.random.randint(0,100,27).reshape(3,3,3)"
   ]
  },
  {
   "cell_type": "markdown",
   "id": "456bd772-149a-410a-9c86-04f1b19c6ae1",
   "metadata": {},
   "source": [
    "## <font color='green'> <b>Create a 10x10 array with random values and find the minimum and maximum values</b><font color='black'>"
   ]
  },
  {
   "cell_type": "code",
   "execution_count": 59,
   "id": "ec01322d",
   "metadata": {
    "ExecuteTime": {
     "end_time": "2024-08-17T18:11:24.087359Z",
     "start_time": "2024-08-17T18:11:24.076365Z"
    }
   },
   "outputs": [
    {
     "data": {
      "text/plain": [
       "array([[102, 435, 860, 270, 106,  71, 700,  20, 614, 121],\n",
       "       [466, 214, 330, 458,  87, 372,  99, 871, 663, 130],\n",
       "       [661, 308, 769, 343, 491, 413, 805, 385, 191, 955],\n",
       "       [276, 160, 459, 313,  21, 252, 747, 856, 560, 474],\n",
       "       [ 58, 510, 681, 475, 699, 975, 782, 189, 957, 686],\n",
       "       [957, 562, 875, 566, 243, 831, 504, 130, 484, 818],\n",
       "       [646,  20, 840, 166, 273, 387, 600, 315,  13, 241],\n",
       "       [776, 345, 564, 897, 339,  91, 366, 955, 454, 427],\n",
       "       [508, 775, 942,  34, 205,  80, 931, 561, 871, 387],\n",
       "       [  1, 389, 565, 105, 771, 821, 476, 702, 401, 729]])"
      ]
     },
     "execution_count": 59,
     "metadata": {},
     "output_type": "execute_result"
    }
   ],
   "source": [
    "np.random.seed(42)\n",
    "\n",
    "a = np.random.randint(0,1000,100).reshape(10,10)\n",
    "\n",
    "a"
   ]
  },
  {
   "cell_type": "code",
   "execution_count": 16,
   "id": "cc9b54f3",
   "metadata": {
    "ExecuteTime": {
     "end_time": "2024-08-17T17:23:14.616012Z",
     "start_time": "2024-08-17T17:23:14.605716Z"
    }
   },
   "outputs": [
    {
     "data": {
      "text/plain": [
       "1"
      ]
     },
     "execution_count": 16,
     "metadata": {},
     "output_type": "execute_result"
    }
   ],
   "source": [
    "a.min()"
   ]
  },
  {
   "cell_type": "code",
   "execution_count": 17,
   "id": "1d964e19",
   "metadata": {
    "ExecuteTime": {
     "end_time": "2024-08-17T17:23:14.632529Z",
     "start_time": "2024-08-17T17:23:14.621006Z"
    }
   },
   "outputs": [
    {
     "data": {
      "text/plain": [
       "975"
      ]
     },
     "execution_count": 17,
     "metadata": {},
     "output_type": "execute_result"
    }
   ],
   "source": [
    "a.max()"
   ]
  },
  {
   "cell_type": "markdown",
   "id": "8cbf0c5f-e2dd-4418-b923-a52bbda70b7e",
   "metadata": {},
   "source": [
    "## <font color='green'> <b>Create a random vector of size 30 and find the mean value</b><font color='black'>"
   ]
  },
  {
   "cell_type": "code",
   "execution_count": 80,
   "id": "625f82b7",
   "metadata": {
    "ExecuteTime": {
     "end_time": "2024-08-17T18:18:15.890895Z",
     "start_time": "2024-08-17T18:18:15.881040Z"
    }
   },
   "outputs": [
    {
     "data": {
      "text/plain": [
       "0.517955323696419"
      ]
     },
     "execution_count": 80,
     "metadata": {},
     "output_type": "execute_result"
    }
   ],
   "source": [
    "np.random.random(30).mean()"
   ]
  },
  {
   "cell_type": "markdown",
   "id": "dcdb4e96",
   "metadata": {},
   "source": [
    "## <font color='green'> <b>How can I create an array with dimensions (6, 7, 8) using arange, and find its last element?</b><font color='black'>"
   ]
  },
  {
   "cell_type": "code",
   "execution_count": 19,
   "id": "844deeaf",
   "metadata": {
    "ExecuteTime": {
     "end_time": "2024-08-17T17:23:17.357115Z",
     "start_time": "2024-08-17T17:23:17.349834Z"
    }
   },
   "outputs": [
    {
     "data": {
      "text/plain": [
       "336"
      ]
     },
     "execution_count": 19,
     "metadata": {},
     "output_type": "execute_result"
    }
   ],
   "source": [
    "6*7*8"
   ]
  },
  {
   "cell_type": "code",
   "execution_count": 81,
   "id": "0b1bebac",
   "metadata": {
    "ExecuteTime": {
     "end_time": "2024-08-17T18:19:29.713716Z",
     "start_time": "2024-08-17T18:19:29.705000Z"
    }
   },
   "outputs": [],
   "source": [
    "arr = np.arange(6*7*8).reshape((6,7,8))"
   ]
  },
  {
   "cell_type": "code",
   "execution_count": 21,
   "id": "05f20576",
   "metadata": {
    "ExecuteTime": {
     "end_time": "2024-08-17T17:23:17.424073Z",
     "start_time": "2024-08-17T17:23:17.415078Z"
    }
   },
   "outputs": [
    {
     "data": {
      "text/plain": [
       "335"
      ]
     },
     "execution_count": 21,
     "metadata": {},
     "output_type": "execute_result"
    }
   ],
   "source": [
    "arr[-1,-1,-1]"
   ]
  },
  {
   "cell_type": "markdown",
   "id": "afc74cce-1589-434f-929e-d4f809eac34d",
   "metadata": {},
   "source": [
    "## <font color='green'> <b>Create a 5x5 matrix with row values ranging from 0 to 5</b><font color='black'>"
   ]
  },
  {
   "cell_type": "code",
   "execution_count": 22,
   "id": "522397f4",
   "metadata": {
    "ExecuteTime": {
     "end_time": "2024-08-17T17:23:17.617288Z",
     "start_time": "2024-08-17T17:23:17.609477Z"
    }
   },
   "outputs": [
    {
     "data": {
      "text/plain": [
       "array([[0, 1, 2, 3, 4],\n",
       "       [0, 1, 2, 3, 4],\n",
       "       [0, 1, 2, 3, 4],\n",
       "       [0, 1, 2, 3, 4],\n",
       "       [0, 1, 2, 3, 4]])"
      ]
     },
     "execution_count": 22,
     "metadata": {},
     "output_type": "execute_result"
    }
   ],
   "source": [
    "np.full((5,5), [0,1,2,3,4])  "
   ]
  },
  {
   "cell_type": "code",
   "execution_count": 23,
   "id": "1e7763ea",
   "metadata": {
    "ExecuteTime": {
     "end_time": "2024-08-17T17:23:17.631243Z",
     "start_time": "2024-08-17T17:23:17.622248Z"
    }
   },
   "outputs": [
    {
     "data": {
      "text/plain": [
       "array([[0., 1., 2., 3., 4.],\n",
       "       [0., 1., 2., 3., 4.],\n",
       "       [0., 1., 2., 3., 4.],\n",
       "       [0., 1., 2., 3., 4.],\n",
       "       [0., 1., 2., 3., 4.]])"
      ]
     },
     "execution_count": 23,
     "metadata": {},
     "output_type": "execute_result"
    }
   ],
   "source": [
    "np.zeros((5,5)) + np.arange(0,5)"
   ]
  },
  {
   "cell_type": "code",
   "execution_count": 86,
   "id": "c228b42f",
   "metadata": {
    "ExecuteTime": {
     "end_time": "2024-08-17T18:23:19.606641Z",
     "start_time": "2024-08-17T18:23:19.595647Z"
    }
   },
   "outputs": [
    {
     "data": {
      "text/plain": [
       "array([[0, 1, 2, 3, 4],\n",
       "       [0, 1, 2, 3, 4],\n",
       "       [0, 1, 2, 3, 4],\n",
       "       [0, 1, 2, 3, 4],\n",
       "       [0, 1, 2, 3, 4]])"
      ]
     },
     "execution_count": 86,
     "metadata": {},
     "output_type": "execute_result"
    }
   ],
   "source": [
    "np.full((5,5) , np.arange(0,5))  # Didem hocamdan"
   ]
  },
  {
   "cell_type": "code",
   "execution_count": 87,
   "id": "b0a70335",
   "metadata": {
    "ExecuteTime": {
     "end_time": "2024-08-17T18:23:51.066301Z",
     "start_time": "2024-08-17T18:23:51.057811Z"
    }
   },
   "outputs": [
    {
     "data": {
      "text/plain": [
       "array([[0, 1, 2, 3, 4],\n",
       "       [0, 1, 2, 3, 4],\n",
       "       [0, 1, 2, 3, 4],\n",
       "       [0, 1, 2, 3, 4],\n",
       "       [0, 1, 2, 3, 4]])"
      ]
     },
     "execution_count": 87,
     "metadata": {},
     "output_type": "execute_result"
    }
   ],
   "source": [
    "np.array([np.arange(5)] * 5) # Hakan hocamdan"
   ]
  },
  {
   "cell_type": "code",
   "execution_count": 88,
   "id": "761d3cd3",
   "metadata": {
    "ExecuteTime": {
     "end_time": "2024-08-17T18:25:15.181771Z",
     "start_time": "2024-08-17T18:25:15.172576Z"
    }
   },
   "outputs": [
    {
     "data": {
      "text/plain": [
       "array([[0, 1, 2, 3, 4],\n",
       "       [0, 1, 2, 3, 4],\n",
       "       [0, 1, 2, 3, 4],\n",
       "       [0, 1, 2, 3, 4],\n",
       "       [0, 1, 2, 3, 4]])"
      ]
     },
     "execution_count": 88,
     "metadata": {},
     "output_type": "execute_result"
    }
   ],
   "source": [
    "np.tile(np.arange(5), (5, 1))   # Arzu hocamdan"
   ]
  },
  {
   "cell_type": "code",
   "execution_count": 89,
   "id": "a3fcf845",
   "metadata": {
    "ExecuteTime": {
     "end_time": "2024-08-17T18:25:50.978215Z",
     "start_time": "2024-08-17T18:25:50.965966Z"
    }
   },
   "outputs": [
    {
     "data": {
      "text/plain": [
       "array([[0, 1, 2, 3, 4],\n",
       "       [0, 1, 2, 3, 4],\n",
       "       [0, 1, 2, 3, 4],\n",
       "       [0, 1, 2, 3, 4],\n",
       "       [0, 1, 2, 3, 4]])"
      ]
     },
     "execution_count": 89,
     "metadata": {},
     "output_type": "execute_result"
    }
   ],
   "source": [
    "np.resize(np.array(range(0,5)),(5,5)) # Hamdi hocamdan"
   ]
  },
  {
   "cell_type": "code",
   "execution_count": 91,
   "id": "0d60d0d8",
   "metadata": {
    "ExecuteTime": {
     "end_time": "2024-08-17T18:26:50.847365Z",
     "start_time": "2024-08-17T18:26:50.835711Z"
    }
   },
   "outputs": [
    {
     "data": {
      "text/plain": [
       "array([[0, 1, 2, 3, 4],\n",
       "       [0, 1, 2, 3, 4],\n",
       "       [0, 1, 2, 3, 4],\n",
       "       [0, 1, 2, 3, 4],\n",
       "       [0, 1, 2, 3, 4]])"
      ]
     },
     "execution_count": 91,
     "metadata": {},
     "output_type": "execute_result"
    }
   ],
   "source": [
    "matris = np.ones((5,5)).astype(int)\n",
    "matris * np.arange(5)                     # Ramazan hocamdan"
   ]
  },
  {
   "cell_type": "markdown",
   "id": "cbea287c-b2ef-4c94-b4bc-e047ee69abd1",
   "metadata": {},
   "source": [
    "## <font color='green'> <b>Create a vector of size 12 with values ranging from 0 to 1 (excluding 0 and 1)</b><font color='black'>"
   ]
  },
  {
   "cell_type": "code",
   "execution_count": 92,
   "id": "49ae67b0",
   "metadata": {
    "ExecuteTime": {
     "end_time": "2024-08-17T18:28:38.618784Z",
     "start_time": "2024-08-17T18:28:38.609022Z"
    }
   },
   "outputs": [
    {
     "data": {
      "text/plain": [
       "array([0.        , 0.08333333, 0.16666667, 0.25      , 0.33333333,\n",
       "       0.41666667, 0.5       , 0.58333333, 0.66666667, 0.75      ,\n",
       "       0.83333333, 0.91666667, 1.        ])"
      ]
     },
     "execution_count": 92,
     "metadata": {},
     "output_type": "execute_result"
    }
   ],
   "source": [
    "np.linspace(0,1,13)"
   ]
  },
  {
   "cell_type": "code",
   "execution_count": 93,
   "id": "15437a91",
   "metadata": {
    "ExecuteTime": {
     "end_time": "2024-08-17T18:29:07.104072Z",
     "start_time": "2024-08-17T18:29:07.093079Z"
    }
   },
   "outputs": [
    {
     "data": {
      "text/plain": [
       "array([0.        , 0.07692308, 0.15384615, 0.23076923, 0.30769231,\n",
       "       0.38461538, 0.46153846, 0.53846154, 0.61538462, 0.69230769,\n",
       "       0.76923077, 0.84615385, 0.92307692])"
      ]
     },
     "execution_count": 93,
     "metadata": {},
     "output_type": "execute_result"
    }
   ],
   "source": [
    "np.linspace(0,1,13, endpoint=False)"
   ]
  },
  {
   "cell_type": "code",
   "execution_count": 24,
   "id": "b6caf3c4",
   "metadata": {
    "ExecuteTime": {
     "end_time": "2024-08-17T17:23:18.030057Z",
     "start_time": "2024-08-17T17:23:18.019536Z"
    }
   },
   "outputs": [
    {
     "data": {
      "text/plain": [
       "array([0.07692308, 0.15384615, 0.23076923, 0.30769231, 0.38461538,\n",
       "       0.46153846, 0.53846154, 0.61538462, 0.69230769, 0.76923077,\n",
       "       0.84615385, 0.92307692])"
      ]
     },
     "execution_count": 24,
     "metadata": {},
     "output_type": "execute_result"
    }
   ],
   "source": [
    "np.linspace(0,1,13, endpoint=False)[1:]"
   ]
  },
  {
   "cell_type": "code",
   "execution_count": 95,
   "id": "8d70f25f",
   "metadata": {
    "ExecuteTime": {
     "end_time": "2024-08-17T18:31:43.877119Z",
     "start_time": "2024-08-17T18:31:43.866402Z"
    }
   },
   "outputs": [
    {
     "data": {
      "text/plain": [
       "array([0.07692308, 0.15384615, 0.23076923, 0.30769231, 0.38461538,\n",
       "       0.46153846, 0.53846154, 0.61538462, 0.69230769, 0.76923077,\n",
       "       0.84615385, 0.92307692])"
      ]
     },
     "execution_count": 95,
     "metadata": {},
     "output_type": "execute_result"
    }
   ],
   "source": [
    "np.linspace(0,1,14)[1:-1]  # Hamdi hocamdan"
   ]
  },
  {
   "cell_type": "markdown",
   "id": "1dc7d714-45a5-4bc7-a52e-37abe31bfb1f",
   "metadata": {},
   "source": [
    "## <font color='green'> <b>Create a random vector of size 10 and sort it</b><font color='black'>"
   ]
  },
  {
   "cell_type": "code",
   "execution_count": 97,
   "id": "c0a59fbf",
   "metadata": {
    "ExecuteTime": {
     "end_time": "2024-08-17T18:33:24.416207Z",
     "start_time": "2024-08-17T18:33:24.406243Z"
    }
   },
   "outputs": [
    {
     "data": {
      "text/plain": [
       "array([0.20507756, 0.47661948, 0.49074878, 0.53503673, 0.71095248,\n",
       "       0.71845727, 0.7228961 , 0.82086147, 0.83858256, 0.96799407])"
      ]
     },
     "execution_count": 97,
     "metadata": {},
     "output_type": "execute_result"
    }
   ],
   "source": [
    "a= np.random.random(10)\n",
    "a.sort()\n",
    "a"
   ]
  },
  {
   "cell_type": "markdown",
   "id": "0d58bab8-cab1-4318-9405-6e54a17ac346",
   "metadata": {},
   "source": [
    "## <font color='green'> <b>Consider two random array A anb B, check if they are equal</b><font color='black'>\n",
    "**Extra research is required**"
   ]
  },
  {
   "cell_type": "code",
   "execution_count": 103,
   "id": "07d21f6d",
   "metadata": {
    "ExecuteTime": {
     "end_time": "2024-08-17T18:35:11.207890Z",
     "start_time": "2024-08-17T18:35:11.199888Z"
    }
   },
   "outputs": [],
   "source": [
    "A = np.random.randint(1,3,2)\n",
    "B = np.random.randint(1,3,2)"
   ]
  },
  {
   "cell_type": "code",
   "execution_count": 104,
   "id": "52961478",
   "metadata": {
    "ExecuteTime": {
     "end_time": "2024-08-17T18:35:12.066502Z",
     "start_time": "2024-08-17T18:35:12.056292Z"
    }
   },
   "outputs": [
    {
     "data": {
      "text/plain": [
       "array([2, 1])"
      ]
     },
     "execution_count": 104,
     "metadata": {},
     "output_type": "execute_result"
    }
   ],
   "source": [
    "A"
   ]
  },
  {
   "cell_type": "code",
   "execution_count": 105,
   "id": "18e207f6",
   "metadata": {
    "ExecuteTime": {
     "end_time": "2024-08-17T18:35:12.912611Z",
     "start_time": "2024-08-17T18:35:12.904675Z"
    }
   },
   "outputs": [
    {
     "data": {
      "text/plain": [
       "array([1, 2])"
      ]
     },
     "execution_count": 105,
     "metadata": {},
     "output_type": "execute_result"
    }
   ],
   "source": [
    "B"
   ]
  },
  {
   "cell_type": "code",
   "execution_count": 106,
   "id": "16e35049",
   "metadata": {
    "ExecuteTime": {
     "end_time": "2024-08-17T18:35:15.486409Z",
     "start_time": "2024-08-17T18:35:15.479126Z"
    }
   },
   "outputs": [
    {
     "name": "stdout",
     "output_type": "stream",
     "text": [
      "A array: [2 1]\n",
      "B array: [1 2]\n",
      "A ve B array eşit mi: False\n"
     ]
    }
   ],
   "source": [
    "equal = np.array_equal(A,B)\n",
    "\n",
    "print(f\"A array: {A}\")\n",
    "print(f\"B array: {B}\")\n",
    "print(f\"A ve B array eşit mi: {equal}\")"
   ]
  },
  {
   "cell_type": "code",
   "execution_count": 30,
   "id": "c399d7bb",
   "metadata": {
    "ExecuteTime": {
     "end_time": "2024-08-17T17:23:19.704261Z",
     "start_time": "2024-08-17T17:23:19.699275Z"
    }
   },
   "outputs": [],
   "source": [
    "# a = np.random.randint(1,3,2)\n",
    "# b = np.random.randint(1,3,2)\n",
    "# comparison_arrays = a == b\n",
    "# equal_arrays = comparison_arrays.all()\n",
    "# print (equal_arrays)"
   ]
  },
  {
   "cell_type": "markdown",
   "id": "add060d3-6cca-47eb-8a48-2b9f33227130",
   "metadata": {},
   "source": [
    "## <font color='green'> <b>Generate a random vector of size 10 and replace the maximum value with 0</b><font color='black'>"
   ]
  },
  {
   "cell_type": "code",
   "execution_count": 107,
   "id": "6edc3993",
   "metadata": {
    "ExecuteTime": {
     "end_time": "2024-08-17T18:37:47.497264Z",
     "start_time": "2024-08-17T18:37:47.488788Z"
    }
   },
   "outputs": [
    {
     "data": {
      "text/plain": [
       "array([0.7677795 , 0.08729018, 0.50610396, 0.93201434, 0.32064219,\n",
       "       0.5938831 , 0.36923048, 0.45426797, 0.54860312, 0.54892198])"
      ]
     },
     "execution_count": 107,
     "metadata": {},
     "output_type": "execute_result"
    }
   ],
   "source": [
    "a = np.random.random(10)\n",
    "a"
   ]
  },
  {
   "cell_type": "code",
   "execution_count": 108,
   "id": "afd1b29e",
   "metadata": {
    "ExecuteTime": {
     "end_time": "2024-08-17T18:37:49.127107Z",
     "start_time": "2024-08-17T18:37:49.121091Z"
    }
   },
   "outputs": [],
   "source": [
    "a[a.argmax()] = 0"
   ]
  },
  {
   "cell_type": "code",
   "execution_count": 109,
   "id": "0eb40703",
   "metadata": {
    "ExecuteTime": {
     "end_time": "2024-08-17T18:37:50.537530Z",
     "start_time": "2024-08-17T18:37:50.528849Z"
    }
   },
   "outputs": [
    {
     "data": {
      "text/plain": [
       "array([0.7677795 , 0.08729018, 0.50610396, 0.        , 0.32064219,\n",
       "       0.5938831 , 0.36923048, 0.45426797, 0.54860312, 0.54892198])"
      ]
     },
     "execution_count": 109,
     "metadata": {},
     "output_type": "execute_result"
    }
   ],
   "source": [
    "a"
   ]
  },
  {
   "cell_type": "markdown",
   "id": "3d99138b-91e6-4d19-9195-1f384a68063b",
   "metadata": {},
   "source": [
    "## <font color='green'> <b>How to find the most frequent value in an array?</b><font color='black'>\n",
    "**Extra research is required**"
   ]
  },
  {
   "cell_type": "code",
   "execution_count": 34,
   "id": "19a6efab",
   "metadata": {
    "ExecuteTime": {
     "end_time": "2024-08-17T17:23:20.116044Z",
     "start_time": "2024-08-17T17:23:20.108047Z"
    }
   },
   "outputs": [
    {
     "data": {
      "text/plain": [
       "array([3, 4, 6, 6, 3, 6, 2, 5, 1, 9])"
      ]
     },
     "execution_count": 34,
     "metadata": {},
     "output_type": "execute_result"
    }
   ],
   "source": [
    "a = np.random.randint(0,10,10)\n",
    "a"
   ]
  },
  {
   "cell_type": "code",
   "execution_count": 35,
   "id": "7389b0c4",
   "metadata": {
    "ExecuteTime": {
     "end_time": "2024-08-17T17:23:20.133547Z",
     "start_time": "2024-08-17T17:23:20.126036Z"
    }
   },
   "outputs": [
    {
     "data": {
      "text/plain": [
       "array([0, 1, 1, 2, 1, 1, 3, 0, 0, 1], dtype=int64)"
      ]
     },
     "execution_count": 35,
     "metadata": {},
     "output_type": "execute_result"
    }
   ],
   "source": [
    "np.bincount(a)"
   ]
  },
  {
   "cell_type": "code",
   "execution_count": 36,
   "id": "067c2424",
   "metadata": {
    "ExecuteTime": {
     "end_time": "2024-08-17T17:23:20.147044Z",
     "start_time": "2024-08-17T17:23:20.137538Z"
    }
   },
   "outputs": [
    {
     "data": {
      "text/plain": [
       "6"
      ]
     },
     "execution_count": 36,
     "metadata": {},
     "output_type": "execute_result"
    }
   ],
   "source": [
    "np.bincount(a).argmax()\n",
    "\n",
    "# eşit sayıda aynı tekrar varsa ilk gördüğünü döndürüyor"
   ]
  },
  {
   "cell_type": "code",
   "execution_count": 111,
   "id": "f665be43",
   "metadata": {
    "ExecuteTime": {
     "end_time": "2024-08-17T18:43:40.958003Z",
     "start_time": "2024-08-17T18:43:37.055703Z"
    }
   },
   "outputs": [
    {
     "data": {
      "text/plain": [
       "ModeResult(mode=3, count=4)"
      ]
     },
     "execution_count": 111,
     "metadata": {},
     "output_type": "execute_result"
    }
   ],
   "source": [
    "from scipy import stats\n",
    "arr = np.array([1,2,3,4,5,3,3,3,6,7,8,8,7])\n",
    "stats.mode(arr)\n",
    "\n",
    "# Fatih hocamdan"
   ]
  },
  {
   "cell_type": "code",
   "execution_count": 114,
   "id": "8afb8ed4",
   "metadata": {
    "ExecuteTime": {
     "end_time": "2024-08-17T18:45:08.214735Z",
     "start_time": "2024-08-17T18:45:08.201742Z"
    }
   },
   "outputs": [
    {
     "data": {
      "text/plain": [
       "[(5, 6)]"
      ]
     },
     "execution_count": 114,
     "metadata": {},
     "output_type": "execute_result"
    }
   ],
   "source": [
    "from collections import Counter\n",
    "\n",
    "arr_18 = np.array([1,2,3,4,4,4,4,5,5,5,5,5,5,6,6,7,8,9,9])\n",
    "\n",
    "\n",
    "Counter(arr_18)\n",
    "Counter(arr_18).most_common(1)"
   ]
  },
  {
   "cell_type": "markdown",
   "id": "643742e8",
   "metadata": {},
   "source": [
    "## <font color='green'> <b>Create a 2d array with 1 on the border and 0 inside</b><font color='black'>"
   ]
  },
  {
   "cell_type": "code",
   "execution_count": 37,
   "id": "affc3c2a",
   "metadata": {
    "ExecuteTime": {
     "end_time": "2024-08-17T17:23:20.248364Z",
     "start_time": "2024-08-17T17:23:20.239370Z"
    }
   },
   "outputs": [
    {
     "data": {
      "text/plain": [
       "array([[1., 1., 1., 1., 1.],\n",
       "       [1., 1., 1., 1., 1.],\n",
       "       [1., 1., 1., 1., 1.],\n",
       "       [1., 1., 1., 1., 1.],\n",
       "       [1., 1., 1., 1., 1.]])"
      ]
     },
     "execution_count": 37,
     "metadata": {},
     "output_type": "execute_result"
    }
   ],
   "source": [
    "a = np.ones((5,5))\n",
    "a"
   ]
  },
  {
   "cell_type": "code",
   "execution_count": 38,
   "id": "5aad75aa",
   "metadata": {
    "ExecuteTime": {
     "end_time": "2024-08-17T17:23:20.261357Z",
     "start_time": "2024-08-17T17:23:20.252362Z"
    }
   },
   "outputs": [
    {
     "data": {
      "text/plain": [
       "array([[1., 1., 1., 1., 1.],\n",
       "       [1., 0., 0., 0., 1.],\n",
       "       [1., 0., 0., 0., 1.],\n",
       "       [1., 0., 0., 0., 1.],\n",
       "       [1., 1., 1., 1., 1.]])"
      ]
     },
     "execution_count": 38,
     "metadata": {},
     "output_type": "execute_result"
    }
   ],
   "source": [
    "a[1:-1,1:-1] = 0\n",
    "a"
   ]
  },
  {
   "cell_type": "markdown",
   "id": "823dbb42",
   "metadata": {},
   "source": [
    "## <font color='green'> <b>Create a 5x5 matrix with values 1,2,3,4 just below the diagonal</b><font color='black'>\n",
    "**Extra research may be required**"
   ]
  },
  {
   "attachments": {
    "image.png": {
     "image/png": "[encoded data removed]"
    }
   },
   "cell_type": "markdown",
   "id": "e65c7127",
   "metadata": {},
   "source": [
    "![image.png](attachment:image.png)"
   ]
  },
  {
   "cell_type": "code",
   "execution_count": 123,
   "id": "7b368d01",
   "metadata": {
    "ExecuteTime": {
     "end_time": "2024-08-17T18:50:41.634834Z",
     "start_time": "2024-08-17T18:50:41.621840Z"
    },
    "run_control": {
     "marked": true
    }
   },
   "outputs": [
    {
     "data": {
      "text/plain": [
       "array([[0, 0, 0, 0, 0],\n",
       "       [1, 0, 0, 0, 0],\n",
       "       [0, 2, 0, 0, 0],\n",
       "       [0, 0, 3, 0, 0],\n",
       "       [0, 0, 0, 4, 0]])"
      ]
     },
     "execution_count": 123,
     "metadata": {},
     "output_type": "execute_result"
    }
   ],
   "source": [
    "a = np.diag([1,2,3,4], k=-1)\n",
    "a"
   ]
  },
  {
   "cell_type": "code",
   "execution_count": 40,
   "id": "e75e1d0d",
   "metadata": {
    "ExecuteTime": {
     "end_time": "2024-08-17T17:23:20.560066Z",
     "start_time": "2024-08-17T17:23:20.541074Z"
    }
   },
   "outputs": [
    {
     "data": {
      "text/plain": [
       "array([[0., 0., 0., 0., 0.],\n",
       "       [1., 0., 0., 0., 0.],\n",
       "       [0., 2., 0., 0., 0.],\n",
       "       [0., 0., 3., 0., 0.],\n",
       "       [0., 0., 0., 4., 0.]])"
      ]
     },
     "execution_count": 40,
     "metadata": {},
     "output_type": "execute_result"
    }
   ],
   "source": [
    "a =np.eye(5, k=-1) * np.array([1,2,3,4,5])\n",
    "a"
   ]
  },
  {
   "cell_type": "code",
   "execution_count": 125,
   "id": "78d3c6c1",
   "metadata": {
    "ExecuteTime": {
     "end_time": "2024-08-17T18:51:32.635918Z",
     "start_time": "2024-08-17T18:51:32.626774Z"
    }
   },
   "outputs": [
    {
     "data": {
      "text/plain": [
       "array([[0, 0, 0, 0, 0],\n",
       "       [1, 0, 0, 0, 0],\n",
       "       [0, 2, 0, 0, 0],\n",
       "       [0, 0, 3, 0, 0],\n",
       "       [0, 0, 0, 4, 0]])"
      ]
     },
     "execution_count": 125,
     "metadata": {},
     "output_type": "execute_result"
    }
   ],
   "source": [
    "np.diagflat([1,2,3,4],-1)  # Chynar hocamdan"
   ]
  },
  {
   "cell_type": "code",
   "execution_count": 127,
   "id": "807b055e",
   "metadata": {
    "ExecuteTime": {
     "end_time": "2024-08-17T18:53:00.626264Z",
     "start_time": "2024-08-17T18:53:00.613807Z"
    }
   },
   "outputs": [
    {
     "data": {
      "text/plain": [
       "array([[0, 0, 0, 0, 0],\n",
       "       [1, 0, 0, 0, 0],\n",
       "       [0, 2, 0, 0, 0],\n",
       "       [0, 0, 3, 0, 0],\n",
       "       [0, 0, 0, 4, 0]])"
      ]
     },
     "execution_count": 127,
     "metadata": {},
     "output_type": "execute_result"
    }
   ],
   "source": [
    "arr_20 = np.zeros((5,5), dtype= int)\n",
    "arr_20[(1,2,3,4), (0,1,2,3)] = (1,2,3,4)    # Yusuf hocamdan\n",
    "arr_20         "
   ]
  },
  {
   "cell_type": "code",
   "execution_count": 128,
   "id": "89f8ca11",
   "metadata": {
    "ExecuteTime": {
     "end_time": "2024-08-17T18:53:21.497779Z",
     "start_time": "2024-08-17T18:53:21.476316Z"
    }
   },
   "outputs": [
    {
     "data": {
      "text/plain": [
       "array([[0., 0., 0., 0., 0.],\n",
       "       [1., 0., 0., 0., 0.],\n",
       "       [0., 2., 0., 0., 0.],\n",
       "       [0., 0., 3., 0., 0.],\n",
       "       [0., 0., 0., 4., 0.]])"
      ]
     },
     "execution_count": 128,
     "metadata": {},
     "output_type": "execute_result"
    }
   ],
   "source": [
    "vector_17 = np.zeros((5,5))\n",
    "vector_17[1,0] = 1\n",
    "vector_17[2,1] = 2\n",
    "vector_17[3,2] = 3\n",
    "vector_17[4,3] = 4\n",
    "vector_17"
   ]
  },
  {
   "cell_type": "markdown",
   "id": "19b54bac",
   "metadata": {},
   "source": [
    "## <font color='green'> <b>Create a 8x8 matrix and fill it with a checkerboard pattern</b><font color='black'>"
   ]
  },
  {
   "attachments": {
    "image.png": {
     "image/png": "[encoded data removed]"
    }
   },
   "cell_type": "markdown",
   "id": "2ce4419c",
   "metadata": {},
   "source": [
    "![image.png](attachment:image.png)"
   ]
  },
  {
   "cell_type": "code",
   "execution_count": 41,
   "id": "d51e25f9",
   "metadata": {
    "ExecuteTime": {
     "end_time": "2024-08-17T17:23:20.847901Z",
     "start_time": "2024-08-17T17:23:20.838906Z"
    }
   },
   "outputs": [
    {
     "data": {
      "text/plain": [
       "array([[0, 0, 0, 0, 0, 0, 0, 0],\n",
       "       [0, 0, 0, 0, 0, 0, 0, 0],\n",
       "       [0, 0, 0, 0, 0, 0, 0, 0],\n",
       "       [0, 0, 0, 0, 0, 0, 0, 0],\n",
       "       [0, 0, 0, 0, 0, 0, 0, 0],\n",
       "       [0, 0, 0, 0, 0, 0, 0, 0],\n",
       "       [0, 0, 0, 0, 0, 0, 0, 0],\n",
       "       [0, 0, 0, 0, 0, 0, 0, 0]])"
      ]
     },
     "execution_count": 41,
     "metadata": {},
     "output_type": "execute_result"
    }
   ],
   "source": [
    "a = np.zeros((8,8), dtype=int)\n",
    "a"
   ]
  },
  {
   "cell_type": "code",
   "execution_count": 42,
   "id": "7214a98d",
   "metadata": {
    "ExecuteTime": {
     "end_time": "2024-08-17T17:23:20.861408Z",
     "start_time": "2024-08-17T17:23:20.851899Z"
    }
   },
   "outputs": [
    {
     "data": {
      "text/plain": [
       "array([[0, 0, 0, 0, 0, 0, 0, 0],\n",
       "       [1, 0, 1, 0, 1, 0, 1, 0],\n",
       "       [0, 0, 0, 0, 0, 0, 0, 0],\n",
       "       [1, 0, 1, 0, 1, 0, 1, 0],\n",
       "       [0, 0, 0, 0, 0, 0, 0, 0],\n",
       "       [1, 0, 1, 0, 1, 0, 1, 0],\n",
       "       [0, 0, 0, 0, 0, 0, 0, 0],\n",
       "       [1, 0, 1, 0, 1, 0, 1, 0]])"
      ]
     },
     "execution_count": 42,
     "metadata": {},
     "output_type": "execute_result"
    }
   ],
   "source": [
    "a[1::2, ::2] = 1\n",
    "a"
   ]
  },
  {
   "cell_type": "code",
   "execution_count": 43,
   "id": "ab4ff462",
   "metadata": {
    "ExecuteTime": {
     "end_time": "2024-08-17T17:23:20.898381Z",
     "start_time": "2024-08-17T17:23:20.889387Z"
    }
   },
   "outputs": [
    {
     "data": {
      "text/plain": [
       "array([[0, 1, 0, 1, 0, 1, 0, 1],\n",
       "       [1, 0, 1, 0, 1, 0, 1, 0],\n",
       "       [0, 1, 0, 1, 0, 1, 0, 1],\n",
       "       [1, 0, 1, 0, 1, 0, 1, 0],\n",
       "       [0, 1, 0, 1, 0, 1, 0, 1],\n",
       "       [1, 0, 1, 0, 1, 0, 1, 0],\n",
       "       [0, 1, 0, 1, 0, 1, 0, 1],\n",
       "       [1, 0, 1, 0, 1, 0, 1, 0]])"
      ]
     },
     "execution_count": 43,
     "metadata": {},
     "output_type": "execute_result"
    }
   ],
   "source": [
    "a[::2, 1::2] = 1\n",
    "a"
   ]
  },
  {
   "cell_type": "markdown",
   "id": "50007555",
   "metadata": {},
   "source": [
    "## <font color='green'> <b>Create a checkerboard 8x8 matrix using the tile function</b><font color='black'>\n",
    "**Extra research is required**"
   ]
  },
  {
   "cell_type": "code",
   "execution_count": 44,
   "id": "3aba5dc2",
   "metadata": {
    "ExecuteTime": {
     "end_time": "2024-08-17T17:23:21.558247Z",
     "start_time": "2024-08-17T17:23:21.548253Z"
    }
   },
   "outputs": [
    {
     "data": {
      "text/plain": [
       "array([[0, 1, 0, 1, 0, 1, 0, 1],\n",
       "       [1, 0, 1, 0, 1, 0, 1, 0],\n",
       "       [0, 1, 0, 1, 0, 1, 0, 1],\n",
       "       [1, 0, 1, 0, 1, 0, 1, 0],\n",
       "       [0, 1, 0, 1, 0, 1, 0, 1],\n",
       "       [1, 0, 1, 0, 1, 0, 1, 0],\n",
       "       [0, 1, 0, 1, 0, 1, 0, 1],\n",
       "       [1, 0, 1, 0, 1, 0, 1, 0]])"
      ]
     },
     "execution_count": 44,
     "metadata": {},
     "output_type": "execute_result"
    }
   ],
   "source": [
    "np.tile(np.array([[0,1], [1,0]]), (4,4))\n",
    "\n",
    "# np.array([[0,1],[1,0]]): Bu kısım, temel bir 2x2'lik bir matris oluşturur\n",
    "# np.tile(..., (4,4)): Bu kısım, yukarıda oluşturulan 2x2'lik matrisi hem satır hem de sütun yönünde 4 kez tekrar eder.\n",
    "# Yani, matrisin her bir satırı ve sütunu 4 defa kopyalanır."
   ]
  },
  {
   "cell_type": "code",
   "execution_count": 129,
   "id": "564f7eba",
   "metadata": {
    "ExecuteTime": {
     "end_time": "2024-08-17T18:58:42.926275Z",
     "start_time": "2024-08-17T18:58:42.915281Z"
    }
   },
   "outputs": [
    {
     "data": {
      "text/plain": [
       "array([[0, 1],\n",
       "       [1, 0]])"
      ]
     },
     "execution_count": 129,
     "metadata": {},
     "output_type": "execute_result"
    }
   ],
   "source": [
    "np.array([[0,1], [1,0]])"
   ]
  },
  {
   "cell_type": "markdown",
   "id": "8d979ea4",
   "metadata": {},
   "source": [
    "# <p style=\"background-color:green;font-family:newtimeroman;font-size:100%;color:white;text-align:center;border-radius:20px 20px;\"><b>Faydalı Olması Temennisiyle Teşekkürler</b></p>\n",
    "![](https://www.techproeducation.com/logo/headerlogo.svg)\n",
    "\n",
    "<b>Yeniliklerden ilk siz haberdar olmak istiyorsanız lütfen bizi takip etmeyi unutmayın </b>[YouTube](https://www.youtube.com/c/techproeducation) | [Instagram](https://www.instagram.com/techproeducation) | [Facebook](https://www.facebook.com/techproeducation) | [Telegram](https://t.me/joinchat/HH2qRvA-ulh4OWbb) | [Whatsapp](https://api.whatsapp.com/send/?phone=%2B15853042959&text&type=phone_number&app_absent=0) | [LinkedIn](https://www.linkedin.com/company/techproeducation/mycompany/) |"
   ]
  }
 ],
 "metadata": {
  "hide_input": false,
  "kernelspec": {
   "display_name": "new_env",
   "language": "python",
   "name": "new_env"
  },
  "language_info": {
   "codemirror_mode": {
    "name": "ipython",
    "version": 3
   },
   "file_extension": ".py",
   "mimetype": "text/x-python",
   "name": "python",
   "nbconvert_exporter": "python",
   "pygments_lexer": "ipython3",
   "version": "3.12.4"
  },
  "toc": {
   "base_numbering": 1,
   "nav_menu": {},
   "number_sections": true,
   "sideBar": true,
   "skip_h1_title": false,
   "title_cell": "Table of Contents",
   "title_sidebar": "Contents",
   "toc_cell": false,
   "toc_position": {
    "height": "calc(100% - 180px)",
    "left": "10px",
    "top": "150px",
    "width": "278px"
   },
   "toc_section_display": true,
   "toc_window_display": true
  },
  "varInspector": {
   "cols": {
    "lenName": 16,
    "lenType": 16,
    "lenVar": 40
   },
   "kernels_config": {
    "python": {
     "delete_cmd_postfix": "",
     "delete_cmd_prefix": "del ",
     "library": "var_list.py",
     "varRefreshCmd": "print(var_dic_list())"
    },
    "r": {
     "delete_cmd_postfix": ") ",
     "delete_cmd_prefix": "rm(",
     "library": "var_list.r",
     "varRefreshCmd": "cat(var_dic_list()) "
    }
   },
   "types_to_exclude": [
    "module",
    "function",
    "builtin_function_or_method",
    "instance",
    "_Feature"
   ],
   "window_display": false
  }
 },
 "nbformat": 4,
 "nbformat_minor": 5
}
